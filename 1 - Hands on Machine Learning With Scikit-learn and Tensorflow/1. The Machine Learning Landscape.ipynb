{
 "cells": [
  {
   "cell_type": "code",
   "execution_count": 1,
   "metadata": {},
   "outputs": [],
   "source": [
    "import matplotlib as mpl\n",
    "import matplotlib.pyplot as plt\n",
    "import numpy as np\n",
    "import pandas as pd\n",
    "import sklearn.linear_model"
   ]
  },
  {
   "cell_type": "code",
   "execution_count": 2,
   "metadata": {},
   "outputs": [],
   "source": [
    "# load the data\n",
    "oecd_bli = pd.read_csv('datasets/lifesat/oecd_bli_2015.csv', thousands=',')\n",
    "gdp_per_capita = pd.read_csv('datasets/lifesat/gdp_per_capita.csv', thousands=',',\n",
    "                             delimiter='\\t', encoding='latin1', na_values=\"n/a\")"
   ]
  },
  {
   "cell_type": "code",
   "execution_count": 3,
   "metadata": {},
   "outputs": [],
   "source": [
    "def prepare_country_stats(oecd_bli, gdp_per_capita):\n",
    "    oecd_bli = oecd_bli[oecd_bli[\"INEQUALITY\"]==\"TOT\"]\n",
    "    oecd_bli = oecd_bli.pivot(index=\"Country\", columns=\"Indicator\", values=\"Value\")\n",
    "    gdp_per_capita.rename(columns={\"2015\": \"GDP per capita\"}, inplace=True)\n",
    "    gdp_per_capita.set_index(\"Country\", inplace=True)\n",
    "    full_country_stats = pd.merge(left=oecd_bli, right=gdp_per_capita,\n",
    "                                  left_index=True, right_index=True)\n",
    "    full_country_stats.sort_values(by=\"GDP per capita\", inplace=True)\n",
    "    remove_indices = [0, 1, 6, 8, 33, 34, 35]\n",
    "    keep_indices = list(set(range(36)) - set(remove_indices))\n",
    "    return full_country_stats[[\"GDP per capita\", 'Life satisfaction']].iloc[keep_indices]"
   ]
  },
  {
   "cell_type": "code",
   "execution_count": 4,
   "metadata": {},
   "outputs": [],
   "source": [
    "# prepare the data\n",
    "country_stats = prepare_country_stats(oecd_bli, gdp_per_capita)\n",
    "X = np.c_[country_stats[\"GDP per capita\"]]\n",
    "y = np.c_[country_stats[\"Life satisfaction\"]]"
   ]
  },
  {
   "cell_type": "code",
   "execution_count": 5,
   "metadata": {},
   "outputs": [
    {
     "data": {
      "image/png": "[encoded data removed]",
      "text/plain": [
       "<Figure size 432x288 with 1 Axes>"
      ]
     },
     "metadata": {
      "needs_background": "light"
     },
     "output_type": "display_data"
    }
   ],
   "source": [
    "# visualize the data\n",
    "country_stats.plot(kind=\"scatter\", x=\"GDP per capita\", y=\"Life satisfaction\")\n",
    "plt.show()"
   ]
  },
  {
   "cell_type": "code",
   "execution_count": 6,
   "metadata": {},
   "outputs": [],
   "source": [
    "# select a linear model\n",
    "model = sklearn.linear_model.LinearRegression()"
   ]
  },
  {
   "cell_type": "code",
   "execution_count": 7,
   "metadata": {},
   "outputs": [
    {
     "data": {
      "text/plain": [
       "LinearRegression(copy_X=True, fit_intercept=True, n_jobs=1, normalize=False)"
      ]
     },
     "execution_count": 7,
     "metadata": {},
     "output_type": "execute_result"
    }
   ],
   "source": [
    "# train the model\n",
    "model.fit(X, y)"
   ]
  },
  {
   "cell_type": "code",
   "execution_count": 8,
   "metadata": {},
   "outputs": [
    {
     "name": "stdout",
     "output_type": "stream",
     "text": [
      "[[5.96242338]]\n"
     ]
    }
   ],
   "source": [
    "# make a prediction for Cyprus\n",
    "X_new = [[22587]]\n",
    "print(model.predict(X_new))"
   ]
  },
  {
   "cell_type": "markdown",
   "metadata": {},
   "source": [
    "# Execises"
   ]
  },
  {
   "cell_type": "markdown",
   "metadata": {},
   "source": [
    "1. How would you define Machine Learning?\n",
    "\n",
    "Ans: Machine learning is the field study that makes computers learn from the surrounding environment (data) so it gains knowledge that continuously growing\n",
    "\n",
    "2. Can you name four types of problems where it shines?\n",
    "\n",
    "Ans: The solutions require a lot of hand-tuning or long list of rules, complex problems for which there is no good solution at all using a traditional approach, fluctuating environments, getting insights about complex problems and large amounts of data.\n",
    "\n",
    "3. What is a labeled training set?\n",
    "\n",
    "Ans: Labeled training set is a training set that contains the desired solution.\n",
    "\n",
    "4. What are the two most common supervised tasks?\n",
    "\n",
    "Ans: Classification and Regression\n",
    "\n",
    "5. Can you name four common unsupervised tasks?\n",
    "\n",
    "Ans: Clustering, visualization, dimensionality reduction, and association rule learning.\n",
    "\n",
    "6. What type of Machine Learning algorithm would you use to allow a robot to walk in various unknown terrains?\n",
    "\n",
    "Ans: Reinforcement Learning is the best possible solution because it is the type of learning that learn from the various unknown condition.\n",
    "\n",
    "7. What type of algorithm would you use to segment your customers into multiple groups?\n",
    "\n",
    "Ans: The best possible answer is using a clustering algorithm that can group up similar data.\n",
    "\n",
    "8. Would you frame the problem of spam detection as a supervised learning problem or an unsupervised learning problem?\n",
    "\n",
    "Ans: supervised learning, because in spam detection you need to feed data with the desired solution (labels) into algorithms\n",
    "\n",
    "9. What is an online learning system?\n",
    "\n",
    "Ans: An online learning system can learn incrementally, it is capable of adapting rapidly to both changing data and autonomous systems, and of training on very large quantities of data.\n",
    "\n",
    "10. What is out-of-core learning?\n",
    "\n",
    "Ans: Out-of-core learning handles vast quantities of data that cannot fit in a computer's main memory by chops the data into mini-batches.\n",
    "\n",
    "11. What type of learning algorithm relies on a similarity measure to make predictions?\n",
    "\n",
    "Ans: Instance-based learning learns the training data by heart; it uses similarity to measure new data with the most similar learned instances.\n",
    "\n",
    "12. What is the difference between a model parameter and a learning algorithm’s hyperparameter?\n",
    "\n",
    "Ans: A model has one or more model parameters that determine what it will predict given a new instance. A learning algorithm tries to find optimal values for these parameters such that model generalizes well to new instances. \n",
    "\n",
    "13. What do model-based learning algorithms search for? What is the most common strategy they use to succeed? How do they make predictions?\n",
    "\n",
    "Ans: Model-based learning algorithms search for an optimal value for the model parameters such that the model will generalize well to new instances. The strategy by minimizing a cost function that measures how bad the system is at making predictions on the training data, plus a penalty for model complexity if the model regularized. To make predictions, we feed new instances's features into the model's prediction function, using the parameter values found by learning algorithm.\n",
    "\n",
    "14. Can you name four of the main challenges in Machine Learning?\n",
    "\n",
    "Ans: The lack of data, poor data quality, nonrepresentative data, uninformative features, simple models that underfit the training data, complex models that overfit the data.\n",
    "\n",
    "15. If your model performs great on the training data but generalizes poorly to new instances, what is happening? Can you name three possible solutions?\n",
    "\n",
    "Ans: The model is overfitting the training data. Possible solutions are getting more data, simplifying the model (selecting a simpler algorithm, reducing the number of parameters or features used, or regularizing the model), or reducing the noise in the training data.\n",
    "\n",
    "16. What is a test set and why would you want to use it?\n",
    "\n",
    "Ans: A test set is used to estime the generalization error that a model will make on new instances.\n",
    "\n",
    "17. What is the purpose of a validation set?\n",
    "\n",
    "Ans: A validation set is used to compare models by tuning the best hyperparameters.\n",
    "\n",
    "18. What can go wrong if you tune hyperparameters using the test set?\n",
    "\n",
    "Ans: It will overfitting the test set, and generalization error will be optimistic..\n",
    "\n",
    "19. What is cross-validation and why would you prefer it to a validation set?\n",
    "\n",
    "Ans: Cross-validation is a technique to compare models for model selection and hyperparameter tuning without the need for a separate validation set."
   ]
  },
  {
   "cell_type": "code",
   "execution_count": null,
   "metadata": {},
   "outputs": [],
   "source": []
  }
 ],
 "metadata": {
  "kernelspec": {
   "display_name": "Python 3",
   "language": "python",
   "name": "python3"
  },
  "language_info": {
   "codemirror_mode": {
    "name": "ipython",
    "version": 3
   },
   "file_extension": ".py",
   "mimetype": "text/x-python",
   "name": "python",
   "nbconvert_exporter": "python",
   "pygments_lexer": "ipython3",
   "version": "3.6.7"
  }
 },
 "nbformat": 4,
 "nbformat_minor": 2
}
