{
 "cells": [
  {
   "cell_type": "markdown",
   "metadata": {},
   "source": [
    "# Training Models"
   ]
  },
  {
   "cell_type": "markdown",
   "metadata": {},
   "source": [
    "In this chapter we will learn Linear Regression mode. It has two different ways to train:\n",
    "- Using a direct \"closed-form\" equation that directly computes the model parameters\n",
    "- Using an iterative optimization approach called Gradient Descent (GD) that gradually tweaks the model parameters to minimize the cost function.\n",
    "\n",
    "We will also learn Polynomial Regression, a more complex model that can fit nonlinear datasets.\n",
    "\n",
    "And finally we will learn two more models for classification tasks: Logistic Regression and Softmax Regression."
   ]
  },
  {
   "cell_type": "markdown",
   "metadata": {},
   "source": [
    "# Linear Regression\n",
    "\n",
    "Equation for Linear Regression model prediction:\n",
    "\n",
    "$\\hat{y} = θ_0 + θ_1x_1 + θ_2x_2 + ⋯ + θ_nx_n$\n",
    "\n",
    "In this equation:\n",
    "- $\\hat{y}$ is the predicted value\n",
    "- $n$ is the number of features\n",
    "- $x_i$ is the $i^{th}$ feature value\n",
    "- $θ_j$ is the $j^{th}$ model parameter (including the bias term $θ_0$ and the feature weights $θ_1,θ_2,...,θ_n$\n",
    "\n",
    "This can be written much more concisely using a vectorized form\n",
    "\n",
    "$\\hat{y} = h_θ(x) = θ \\cdot x $\n",
    "\n",
    "In this equation:\n",
    "- $θ$ is the model's parameter vector, containing the bias term $θ_0$ and the feature weight $θ_1$to $θ_n$\n",
    "- $x$ is the instance's feature vector, containing $x_0$to $x_n$, with $x_0$ always equal to 1\n",
    "- $θ \\cdot x$ is the dot product of the vectors $θ$ and $x$, which is equal to $θ_0 + θ_1x_1 + θ_2x_2 + ⋯ + θ_nx_n$\n",
    "- $h_θ$ is the hypothesis function, using the model parameters $θ$\n",
    "\n",
    "We will use mean square error (MSE) for performance measurement of the model.\n",
    "\n",
    "$MSE(X, h_θ) = MSE(θ) = \\frac{1}{m} \\sum_{i=1}^m \\biggl(θ^Tx^{(i)}-y^{(i)}\\biggr)^2$\n"
   ]
  },
  {
   "cell_type": "markdown",
   "metadata": {},
   "source": [
    "## The Normal Equation\n",
    "The normal equation using mathematical equation to find the value of $θ$ that minimizes the cost function.\n",
    "\n",
    "$\\hat{θ}=(X^TX)^{-1}X^Ty$\n",
    "\n",
    "In this equation:\n",
    "- $\\hat{θ}$ is the value of $θ$ that minimizes the cost function\n",
    "- $y$ is the vector of target values containing $y_1$to $y_m$"
   ]
  },
  {
   "cell_type": "code",
   "execution_count": 1,
   "metadata": {},
   "outputs": [],
   "source": [
    "# let's test the equation\n",
    "import numpy as np\n",
    "\n",
    "X = 2 * np.random.rand(100, 1)\n",
    "y = 4 + 3 * X + np.random.randn(100, 1)"
   ]
  },
  {
   "cell_type": "code",
   "execution_count": 2,
   "metadata": {},
   "outputs": [
    {
     "data": {
      "text/plain": [
       "<Figure size 640x480 with 1 Axes>"
      ]
     },
     "metadata": {},
     "output_type": "display_data"
    }
   ],
   "source": [
    "import matplotlib.pyplot as plt\n",
    "\n",
    "plt.plot(X, y, \"b.\")\n",
    "plt.xlabel(\"$x_1$\", fontsize=18)\n",
    "plt.ylabel(\"$y$\", rotation=0, fontsize=18)\n",
    "plt.axis([0, 2, 0, 15])\n",
    "plt.show()"
   ]
  },
  {
   "cell_type": "markdown",
   "metadata": {},
   "source": [
    "Now lets compute $\\hat{θ}$"
   ]
  },
  {
   "cell_type": "code",
   "execution_count": 3,
   "metadata": {},
   "outputs": [
    {
     "data": {
      "text/plain": [
       "array([[3.94029535],\n",
       "       [3.05406146]])"
      ]
     },
     "execution_count": 3,
     "metadata": {},
     "output_type": "execute_result"
    }
   ],
   "source": [
    "X_b = np.c_[np.ones((100, 1)), X]    # add x0 = 1 to each instance\n",
    "theta_best = np.linalg.inv(X_b.T.dot(X_b)).dot(X_b.T).dot(y)\n",
    "theta_best"
   ]
  },
  {
   "cell_type": "markdown",
   "metadata": {},
   "source": [
    "We would hoped for $θ_0=4$ and $θ_1=3$ instead of $θ_0=3.94$ and $θ_1=3.05$. The noise made it impossible to recover the exact parameters."
   ]
  },
  {
   "cell_type": "code",
   "execution_count": 4,
   "metadata": {},
   "outputs": [
    {
     "data": {
      "text/plain": [
       "array([[ 3.94029535],\n",
       "       [10.04841827]])"
      ]
     },
     "execution_count": 4,
     "metadata": {},
     "output_type": "execute_result"
    }
   ],
   "source": [
    "# we can make prediction with teta cap\n",
    "X_new = np.array([[0], [2]])\n",
    "X_new_b = np.c_[np.ones((2, 1)), X_new] # add x0 = 1 to each instance\n",
    "y_predict = X_new_b.dot(theta_best)\n",
    "y_predict"
   ]
  },
  {
   "cell_type": "code",
   "execution_count": 5,
   "metadata": {},
   "outputs": [
    {
     "data": {
      "image/png": "[encoded data removed]",
      "text/plain": [
       "<Figure size 432x288 with 1 Axes>"
      ]
     },
     "metadata": {
      "needs_background": "light"
     },
     "output_type": "display_data"
    }
   ],
   "source": [
    "# let's plot this model's predictions\n",
    "plt.plot(X_new, y_predict, \"r-\")\n",
    "plt.plot(X, y, \"b.\")\n",
    "plt.axis([0, 2, 0, 15])\n",
    "plt.show()"
   ]
  },
  {
   "cell_type": "code",
   "execution_count": 6,
   "metadata": {},
   "outputs": [
    {
     "data": {
      "text/plain": [
       "(array([3.94029535]), array([[3.05406146]]))"
      ]
     },
     "execution_count": 6,
     "metadata": {},
     "output_type": "execute_result"
    }
   ],
   "source": [
    "# linear regression\n",
    "from sklearn.linear_model import LinearRegression\n",
    "lin_reg = LinearRegression()\n",
    "lin_reg.fit(X, y)\n",
    "lin_reg.intercept_, lin_reg.coef_"
   ]
  },
  {
   "cell_type": "code",
   "execution_count": 7,
   "metadata": {},
   "outputs": [
    {
     "data": {
      "text/plain": [
       "array([[ 3.94029535],\n",
       "       [10.04841827]])"
      ]
     },
     "execution_count": 7,
     "metadata": {},
     "output_type": "execute_result"
    }
   ],
   "source": [
    "lin_reg.predict(X_new)"
   ]
  },
  {
   "cell_type": "code",
   "execution_count": 9,
   "metadata": {},
   "outputs": [
    {
     "data": {
      "text/plain": [
       "array([[3.94029535],\n",
       "       [3.05406146]])"
      ]
     },
     "execution_count": 9,
     "metadata": {},
     "output_type": "execute_result"
    }
   ],
   "source": [
    "# lstq = least squares\n",
    "theta_best_svd, residuals, rank, s = np.linalg.lstsq(X_b, y, rcond=1e-6)\n",
    "theta_best_svd"
   ]
  },
  {
   "cell_type": "markdown",
   "metadata": {},
   "source": [
    "The function $\\hat{θ}=X^+y$, where $X^+$ is the *pseudoinverse* of $X$ (the Moore-Penrose inverse)."
   ]
  },
  {
   "cell_type": "code",
   "execution_count": 10,
   "metadata": {},
   "outputs": [
    {
     "data": {
      "text/plain": [
       "array([[3.94029535],\n",
       "       [3.05406146]])"
      ]
     },
     "execution_count": 10,
     "metadata": {},
     "output_type": "execute_result"
    }
   ],
   "source": [
    "# we can use pinv()\n",
    "np.linalg.pinv(X_b).dot(y)"
   ]
  },
  {
   "cell_type": "markdown",
   "metadata": {},
   "source": [
    "The pseudoinverse itself is computed using a standard matrix factorization technique called *Singular Value Decomposition* (SVD) that can decompose the training set matrix X into the matrix multiplication of three matrices $UΣV^T$.\n",
    "\n",
    "The pseudoinverse is computed as $X^+=VΣ^+U^T$.\n",
    "- To compute the matrix $Σ^+$, the algorithm takes $Σ$ and sets to zero all values smaller than a tiny threshold value, then it replaces all the nonzero values with their inverse, and finally it transposes the resulting matrix.\n",
    "\n",
    "This approach is more efficient that computing the Normal Equation."
   ]
  },
  {
   "cell_type": "markdown",
   "metadata": {},
   "source": [
    "## Computational Complexity"
   ]
  },
  {
   "cell_type": "markdown",
   "metadata": {},
   "source": [
    "The Normal Equation computes the inverse of $X^TX$, which is an $(n+1)x(n+1)$ matrix where *n* is the number of features.\n",
    "\n",
    "The *computational complexity* of inverting such a matrix is typically about $O(n^{2.4})$ to $O(n^3)$, depending on the implementation."
   ]
  },
  {
   "cell_type": "markdown",
   "metadata": {},
   "source": [
    "# Gradient Descent\n",
    "*Gradient Descent* is a generic optimization algorithm capable of finding optimal solution to a wide range of problems. The general idea of Gradient Descent is to tweak parameters iteratively in order to minimize a cost function.\n",
    "\n",
    "There are two main challenges with Gradient Descent. If the random initialization starts the algorithm in the left, then it will converge to a *local minimum*, which is not as good as the *global minimum*. If it starts on the right, then it will take a very long time to cross the plateau. And if you stop too early, you will never reach the global minimum.\n",
    "\n",
    "Fortunately, the MSE cost function for a Linear Regression model happens to be a *convex function*, which means that if you pick any two points on the curve, the line segment joining them never crosses the curve. So, there is only one global minimum.\n",
    "\n",
    "The more parameters a model has, the more dimensions this space has, and the harder the search is."
   ]
  },
  {
   "cell_type": "markdown",
   "metadata": {},
   "source": [
    "## Batch Gradient Descent\n",
    "We need to calculate how much the cost function will change if we change $θ_j$ just a little bit called *partial derivative*.\n",
    "\n",
    "Partial derivatives of the cost function equation:\n",
    "\n",
    "$$\\frac{∂}{∂θ_j}MSE(θ)=\\frac{2}{m}\\sum_{i=1}^m (θ^Tx^{(i)}-y^{(i)}) x^{(i)}_j$$\n",
    "\n",
    "Instead of computing individually, we can compute them all in one go.\n",
    "\n",
    "$$∇_θMSE(θ)=\\frac{2}{m}X^T(Xθ-y)$$\n",
    "\n",
    "Once you have the gradient vector, which points uphill, just go in the opposite direction to go downhill. This means subtracting $∇_θMSE(θ)$ from $θ$. This is where the learning rate $η$ comes into play: multiply the gradient vector by $η$ to determine the size of the downhill step.\n",
    "\n",
    "$$θ^{(next \\ step)}=θ-η∇_θMSE(θ)$$"
   ]
  },
  {
   "cell_type": "code",
   "execution_count": 11,
   "metadata": {},
   "outputs": [
    {
     "data": {
      "text/plain": [
       "array([[3.87522936],\n",
       "       [3.11226667]])"
      ]
     },
     "execution_count": 11,
     "metadata": {},
     "output_type": "execute_result"
    }
   ],
   "source": [
    "# let's implement it\n",
    "eta = 0.1 # learning rate\n",
    "n_iterations = 1000\n",
    "m = 1000\n",
    "\n",
    "theta = np.random.randn(2,1) # random initialization\n",
    "\n",
    "for iteration in range(n_iterations):\n",
    "    gradients = 2/m * X_b.T.dot(X_b.dot(theta) - y)\n",
    "    theta = theta - eta * gradients\n",
    "    \n",
    "theta"
   ]
  },
  {
   "cell_type": "code",
   "execution_count": 14,
   "metadata": {},
   "outputs": [],
   "source": [
    "# let's try different learning rate\n",
    "theta_path_bgd = []\n",
    "\n",
    "def plot_gradient_descent(theta, eta, theta_path=None):\n",
    "    m = len(X_b)\n",
    "    plt.plot(X, y, \"b.\")\n",
    "    n_iterations = 1000\n",
    "    for iteration in range(n_iterations):\n",
    "        if iteration < 10:\n",
    "            y_predict = X_new_b.dot(theta)\n",
    "            style = \"b-\" if iteration > 0 else \"r--\"\n",
    "            plt.plot(X_new, y_predict, style)\n",
    "        gradients = 2/m * X_b.T.dot(X_b.dot(theta) - y)\n",
    "        theta = theta - eta * gradients\n",
    "        if theta_path is not None:\n",
    "            theta_path.append(theta)\n",
    "    plt.xlabel(\"$x_1$\", fontsize=18)\n",
    "    plt.axis([0, 2, 0, 15])\n",
    "    plt.title(r\"$\\eta = {}$\".format(eta), fontsize=16)"
   ]
  },
  {
   "cell_type": "code",
   "execution_count": 15,
   "metadata": {},
   "outputs": [
    {
     "data": {
      "image/png": "[encoded data removed]",
      "text/plain": [
       "<Figure size 720x288 with 3 Axes>"
      ]
     },
     "metadata": {
      "needs_background": "light"
     },
     "output_type": "display_data"
    }
   ],
   "source": [
    "np.random.seed(42)\n",
    "theta = np.random.randn(2,1)  # random initialization\n",
    "\n",
    "plt.figure(figsize=(10,4))\n",
    "plt.subplot(131); plot_gradient_descent(theta, eta=0.02)\n",
    "plt.ylabel(\"$y$\", rotation=0, fontsize=18)\n",
    "plt.subplot(132); plot_gradient_descent(theta, eta=0.1, theta_path=theta_path_bgd)\n",
    "plt.subplot(133); plot_gradient_descent(theta, eta=0.5)\n",
    "\n",
    "plt.show()"
   ]
  },
  {
   "cell_type": "markdown",
   "metadata": {},
   "source": [
    "- On the left, the learning rate is too low: the algorithm will eventually reach the solution, but it will take a long time.\n",
    "- In the middle, the learning rate looks pretty good: in just a few iterations, it has already converged to the solution.\n",
    "- On the right, the learning rate is too high: the algorithm diverges, jumping all over the place and actually getting further from the solution at avery step.\n",
    "\n",
    "Then how to set a good number of iterations?\n",
    "A simple solution is to set a very large number of iterations but to interrupt the algorithm when the gradient vector becomes tiny, when its norm becomes smaller than a tiny number ϵ (callend *tolerance*)--because this happens when Gradient Descent has (almost) reached the minimum."
   ]
  },
  {
   "cell_type": "code",
   "execution_count": null,
   "metadata": {},
   "outputs": [],
   "source": []
  }
 ],
 "metadata": {
  "kernelspec": {
   "display_name": "Python [conda env:tf_env]",
   "language": "python",
   "name": "conda-env-tf_env-py"
  },
  "language_info": {
   "codemirror_mode": {
    "name": "ipython",
    "version": 3
   },
   "file_extension": ".py",
   "mimetype": "text/x-python",
   "name": "python",
   "nbconvert_exporter": "python",
   "pygments_lexer": "ipython3",
   "version": "3.6.8"
  }
 },
 "nbformat": 4,
 "nbformat_minor": 2
}
